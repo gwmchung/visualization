{
 "cells": [
  {
   "cell_type": "markdown",
   "metadata": {},
   "source": [
    "# Data Visualization for \"Dog bite incident counts in Toronto, from Febuary 2017 until July 2024, grouped by dog breed and incident severity\"\n",
    "## This visualization is based on the dataset \"Dogs Issued Dangerous Dog Orders\" obtained from the City of Toronto's Open Data Portal.\n",
    "https://open.toronto.ca/dataset/dogs-issued-dangerous-dog-orders/\n",
    "\n",
    "This visualization shows the count of dog bite incidents in the city of Toronto, from Febuary 2017 until July 2024.   The Treemap shows the incident counts by breed with the different colored boxes.  Within each box it is further divided into sections that shows the number of incident counts by severity.  When rendered properly in Power BI, by hovering over each box it shows the exact number of counts, the breed of dog involved, and the severity.  \n",
    "\n",
    "![Picture of Power BI dashboard showing boxes of different colors with breed name and severity in each box](dangerous_dog_viz2.png?raw=true)\n"
   ]
  }
 ],
 "metadata": {
  "language_info": {
   "name": "python"
  }
 },
 "nbformat": 4,
 "nbformat_minor": 2
}
